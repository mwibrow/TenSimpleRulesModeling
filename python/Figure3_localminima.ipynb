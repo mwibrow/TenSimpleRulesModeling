{
 "cells": [
  {
   "cell_type": "code",
   "execution_count": 45,
   "metadata": {},
   "outputs": [],
   "source": [
    "from ipywidgets import IntProgress\n",
    "import numpy as np\n",
    "import numpy.random as random\n",
    "import scipy as sp\n"
   ]
  },
  {
   "cell_type": "code",
   "execution_count": 46,
   "metadata": {},
   "outputs": [],
   "source": [
    "def rand(low=0.0, high=1.0, size=None):\n",
    "    return random.uniform(low=low, high=high, size=size)"
   ]
  },
  {
   "cell_type": "code",
   "execution_count": 47,
   "metadata": {},
   "outputs": [
    {
     "data": {
      "text/plain": [
       "array([1., 2., 3., 0., 0., 0., 0., 0., 0., 0., 7.])"
      ]
     },
     "execution_count": 47,
     "metadata": {},
     "output_type": "execute_result"
    }
   ],
   "source": [
    "a = np.array([1,2,3])\n",
    "\n",
    "def insert(arr, index, value):\n",
    "    if index > len(arr):\n",
    "        new_arr = np.zeros((index + 1,))\n",
    "        new_arr[:len(arr)] = arr\n",
    "        arr = new_arr\n",
    "    arr[index] = value\n",
    "    return arr\n",
    "        \n",
    "insert(a, 10, 7)\n"
   ]
  },
  {
   "cell_type": "code",
   "execution_count": 48,
   "metadata": {},
   "outputs": [
    {
     "data": {
      "text/plain": [
       "array([ 1,  5, 10, 15, 20, 25, 30, 35, 40, 45, 50])"
      ]
     },
     "execution_count": 48,
     "metadata": {},
     "output_type": "execute_result"
    }
   ],
   "source": [
    "np.concatenate(([1], np.arange(5, 50 + 5, 5)))"
   ]
  },
  {
   "cell_type": "code",
   "execution_count": 49,
   "metadata": {},
   "outputs": [
    {
     "data": {
      "text/plain": [
       "array([2, 3, 4, 5, 6, 2, 3, 4, 5, 6, 2, 3, 4, 5, 6, 2, 3, 4, 5, 6])"
      ]
     },
     "execution_count": 49,
     "metadata": {},
     "output_type": "execute_result"
    }
   ],
   "source": [
    "np.tile(np.arange(2, 7), 4)"
   ]
  },
  {
   "cell_type": "code",
   "execution_count": 53,
   "metadata": {},
   "outputs": [],
   "source": [
    "# define a range of learning rates to test\n",
    "alphas = np.arange(0.05, 1 + 0.05, 0.05)\n",
    "# define a range of softmax parameters to test\n",
    "betas = np.concatenate(([1], np.arange(5, 50 + 5, 5)))\n",
    "# define a range of WM reliance to test\n",
    "rhos = np.arange(0, 1 + 0.05, 0.05)\n",
    "# define a range of capacities to test\n",
    "Ks = np.arange(2, 6 + 1)\n",
    "\n",
    "# for a finer grid:\n",
    "# alphas = [.06:.01:.5];%[0.05:.05:1];\n",
    "# betas = [1 4:2:20];%[1 5:5:50];\n",
    "# rhos = [.5:.01:.98];%[0:.05:1];\n",
    "\n",
    "\n",
    "# define simulation parameters\n",
    "realalpha = .1\n",
    "realbeta = 10\n",
    "realrho = .9\n",
    "realK = 4\n",
    "## simulate the RLWM task\n",
    "\n",
    "b = 0\n",
    "t = 0\n",
    "\n",
    "\n",
    "Reps = 3\n",
    "Trials = 15\n",
    "nsMin = 2\n",
    "nsMax = 6\n",
    "\n",
    "alloc = int(Reps * Trials * (nsMax - nsMin + 1) / 2 * ( 2 * nsMax + (nsMax - nsMin)))\n",
    "update = np.zeros((alloc,), dtype=int)\n",
    "choice = np.zeros((alloc,), dtype=int)\n",
    "rew = np.zeros((alloc,), dtype=int)\n",
    "stim = np.zeros((alloc,), dtype=int)\n",
    "setsize = np.zeros((alloc,), dtype=int)\n",
    "\n",
    "for rep in range(Reps): # three repetitions of each set size\n",
    "    for ns in range(nsMin, nsMax + 1): # block of set size ns\n",
    "        \n",
    "        b = b + 1\n",
    "        update[t] = 1\n",
    "        # initialize WM mixture weight\n",
    "        w = realrho * np.min([1, realK / ns])\n",
    "        # initialize RL and WM agents\n",
    "        Q = .5 + np.zeros((ns, 3))\n",
    "        WM = .5 + np.zeros((ns, 3))\n",
    "        # define a sequence of trials with 15 iterations of each stimulus\n",
    "        trials = np.tile(np.arange(1, ns + 1, 1), Trials)\n",
    "        # loop over trials\n",
    "        for s in trials:\n",
    "            \n",
    "            # RL policy\n",
    "            softmax1 = np.exp(realbeta * Q[s - 1, :]) / np.sum(np.exp(realbeta * Q[s - 1, :]))\n",
    "            # WM policy\n",
    "            softmax2 = np.exp(50 * WM[s - 1, :]) / np.sum(np.exp(50 * WM[s - 1, :]))\n",
    "            # mixture policy\n",
    "            pr = (1 - w) * softmax1 + w * softmax2\n",
    "            # action choice\n",
    "            r = rand()\n",
    "            \n",
    "            if r < pr[0]:\n",
    "                choice[t] = 1\n",
    "            elif r < pr[0] + pr[1]:\n",
    "                choice[t] = 2 \n",
    "            else:\n",
    "                choice[t] = 3\n",
    "           \n",
    "            # reward correct action (arbitrarily defined here)\n",
    "            rew[t] = choice[t] == np.remainder(s, 3) + 1\n",
    "            \n",
    "            # update RL and WM agents\n",
    "            Q[s - 1, choice[t] - 1] += realalpha * (rew[t] - Q[s - 1, choice[t] - 1])\n",
    "            WM[s - 1, choice[t] - 1] = rew[t]\n",
    "            # store information\n",
    "            stim[t] = s\n",
    "            setsize[t] = ns\n",
    "            t = t + 1\n",
    "       "
   ]
  },
  {
   "cell_type": "code",
   "execution_count": 55,
   "metadata": {},
   "outputs": [
    {
     "data": {
      "application/vnd.jupyter.widget-view+json": {
       "model_id": "4959e1fdd9b64651a84958516358f135",
       "version_major": 2,
       "version_minor": 0
      },
      "text/plain": [
       "IntProgress(value=0, max=41580000)"
      ]
     },
     "metadata": {},
     "output_type": "display_data"
    },
    {
     "name": "stdout",
     "output_type": "stream",
     "text": [
      "41580000\n"
     ]
    },
    {
     "name": "stderr",
     "output_type": "stream",
     "text": [
      "/Users/mwibrow/.virtualenvs/py3/lib/python3.7/site-packages/ipykernel_launcher.py:29: RuntimeWarning: divide by zero encountered in long_scalars\n"
     ]
    },
    {
     "ename": "KeyboardInterrupt",
     "evalue": "",
     "output_type": "error",
     "traceback": [
      "\u001b[0;31m---------------------------------------------------------------------------\u001b[0m",
      "\u001b[0;31mKeyboardInterrupt\u001b[0m                         Traceback (most recent call last)",
      "\u001b[0;32m<ipython-input-55-d9bff7937976>\u001b[0m in \u001b[0;36m<module>\u001b[0;34m\u001b[0m\n\u001b[1;32m     22\u001b[0m                 \u001b[0ml\u001b[0m\u001b[0;34m=\u001b[0m\u001b[0;36m0\u001b[0m\u001b[0;34m\u001b[0m\u001b[0;34m\u001b[0m\u001b[0m\n\u001b[1;32m     23\u001b[0m                 \u001b[0;32mfor\u001b[0m \u001b[0mt\u001b[0m \u001b[0;32min\u001b[0m \u001b[0mrange\u001b[0m\u001b[0;34m(\u001b[0m\u001b[0mlen\u001b[0m\u001b[0;34m(\u001b[0m\u001b[0mstim\u001b[0m\u001b[0;34m)\u001b[0m\u001b[0;34m)\u001b[0m\u001b[0;34m:\u001b[0m\u001b[0;34m\u001b[0m\u001b[0;34m\u001b[0m\u001b[0m\n\u001b[0;32m---> 24\u001b[0;31m                     \u001b[0ms\u001b[0m \u001b[0;34m=\u001b[0m \u001b[0mstim\u001b[0m\u001b[0;34m[\u001b[0m\u001b[0mt\u001b[0m\u001b[0;34m]\u001b[0m\u001b[0;34m\u001b[0m\u001b[0;34m\u001b[0m\u001b[0m\n\u001b[0m\u001b[1;32m     25\u001b[0m                     \u001b[0;32mif\u001b[0m \u001b[0mupdate\u001b[0m\u001b[0;34m[\u001b[0m\u001b[0mt\u001b[0m\u001b[0;34m]\u001b[0m\u001b[0;34m:\u001b[0m\u001b[0;34m\u001b[0m\u001b[0;34m\u001b[0m\u001b[0m\n\u001b[1;32m     26\u001b[0m                         \u001b[0mQ\u001b[0m \u001b[0;34m=\u001b[0m \u001b[0;36m.5\u001b[0m \u001b[0;34m+\u001b[0m \u001b[0mnp\u001b[0m\u001b[0;34m.\u001b[0m\u001b[0mzeros\u001b[0m\u001b[0;34m(\u001b[0m\u001b[0;34m(\u001b[0m\u001b[0msetsize\u001b[0m\u001b[0;34m[\u001b[0m\u001b[0mt\u001b[0m\u001b[0;34m]\u001b[0m\u001b[0;34m,\u001b[0m \u001b[0;36m3\u001b[0m\u001b[0;34m)\u001b[0m\u001b[0;34m)\u001b[0m\u001b[0;34m\u001b[0m\u001b[0;34m\u001b[0m\u001b[0m\n",
      "\u001b[0;31mKeyboardInterrupt\u001b[0m: "
     ]
    }
   ],
   "source": [
    "## brute force computation of LLH for multiple parameters\n",
    "\n",
    "bar_max = len(alphas) * len(betas) * len(rhos) * len(Ks) * len(stim)\n",
    "bar = IntProgress(min=0, max=bar_max)\n",
    "display(bar)\n",
    "print(bar_max)\n",
    "llh = np.zeros((len(alphas), len(betas), len(rhos), len(Ks)))\n",
    "\n",
    "i1=0\n",
    "bar_value = 0\n",
    "for alpha in alphas:\n",
    "    i1 = i1 + 1\n",
    "    i2=0\n",
    "    for beta in betas:\n",
    "        i2 = i2 + 1\n",
    "        j1=0\n",
    "        for rho in rhos:\n",
    "            j1 = j1 + 1\n",
    "            j2 = 0\n",
    "            for K in Ks:\n",
    "                j2 = j2 + 1\n",
    "                l=0\n",
    "                for t in range(len(stim)):\n",
    "                    s = stim[t]\n",
    "                    if update[t]:\n",
    "                        Q = .5 + np.zeros((setsize[t], 3))\n",
    "                        WM2 = .5 + np.zeros((setsize[t], 3))\n",
    "                    \n",
    "                    w = rho * np.min([1, K / setsize[t]])\n",
    "                    softmax1 = np.exp(beta * Q[s - 1, :]) / np.sum(np.exp(beta * Q[s-1, :]))\n",
    "                    softmax2 = np.exp(50 * WM[s - 1, :]) / np.sum(np.exp(50 *WM[s-1, :]))\n",
    "                    pr = (1 - w) * softmax1 + w * softmax2\n",
    "                    l = l + np.log(pr[choice[t] - 1]);\n",
    "                    Q[s - 1, choice[t] - 1] = Q[s - 1,choice[t] - 1] + alpha * (rew[t] - Q[s - 1, choice[t] - 1])\n",
    "                    WM[s - 1, choice[t] - 1] = rew[t]\n",
    "                    \n",
    "                    bar_value += 1\n",
    "                    bar.value = bar_value\n",
    "                \n",
    "                llh[i1 - 1,i2 - 1,j1 - 1,j2 - 1] = l"
   ]
  },
  {
   "cell_type": "code",
   "execution_count": null,
   "metadata": {},
   "outputs": [],
   "source": [
    "print('hello')"
   ]
  },
  {
   "cell_type": "code",
   "execution_count": null,
   "metadata": {},
   "outputs": [],
   "source": []
  }
 ],
 "metadata": {
  "kernelspec": {
   "display_name": "Python 3",
   "language": "python",
   "name": "python3"
  },
  "language_info": {
   "codemirror_mode": {
    "name": "ipython",
    "version": 3
   },
   "file_extension": ".py",
   "mimetype": "text/x-python",
   "name": "python",
   "nbconvert_exporter": "python",
   "pygments_lexer": "ipython3",
   "version": "3.7.3"
  }
 },
 "nbformat": 4,
 "nbformat_minor": 4
}
